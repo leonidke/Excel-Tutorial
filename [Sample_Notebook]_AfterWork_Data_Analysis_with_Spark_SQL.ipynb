{
  "nbformat": 4,
  "nbformat_minor": 0,
  "metadata": {
    "colab": {
      "provenance": [],
      "collapsed_sections": [
        "uEgNLbV7veiA",
        "Yhm7TT6UvhfB",
        "NFG1NxKrv35H",
        "nT5V7zqCQ5-r",
        "881qMba0ROvo",
        "wiid-DCETRdf",
        "H1OnioiRTjns",
        "mKwHDlwuJ3Zk",
        "yI2HbiZOwkhe",
        "KAjuKCnpHktW",
        "t28O-l2wIM8v",
        "4azeF_O_wH6O",
        "Mz3t2x44wTBL",
        "08VUTD8TM8dG"
      ],
      "include_colab_link": true
    },
    "kernelspec": {
      "name": "python3",
      "display_name": "Python 3"
    },
    "language_info": {
      "name": "python"
    }
  },
  "cells": [
    {
      "cell_type": "markdown",
      "metadata": {
        "id": "view-in-github",
        "colab_type": "text"
      },
      "source": [
        "<a href=\"https://colab.research.google.com/github/leonidke/Excel-Tutorial/blob/main/%5BSample_Notebook%5D_AfterWork_Data_Analysis_with_Spark_SQL.ipynb\" target=\"_parent\"><img src=\"https://colab.research.google.com/assets/colab-badge.svg\" alt=\"Open In Colab\"/></a>"
      ]
    },
    {
      "cell_type": "markdown",
      "source": [
        "# [Sample Notebook] AfterWork: Data Analysis with Spark SQL"
      ],
      "metadata": {
        "id": "umq_uSWJvTLA"
      }
    },
    {
      "cell_type": "markdown",
      "source": [
        "# Pre-requisites"
      ],
      "metadata": {
        "id": "uEgNLbV7veiA"
      }
    },
    {
      "cell_type": "code",
      "source": [
        "# Import PySpark\n",
        "!pip install pyspark"
      ],
      "metadata": {
        "id": "7XGXuq5lDcU9",
        "colab": {
          "base_uri": "https://localhost:8080/"
        },
        "outputId": "28a31039-dd02-4fd1-88d4-2cb99c2500f7"
      },
      "execution_count": 1,
      "outputs": [
        {
          "output_type": "stream",
          "name": "stdout",
          "text": [
            "Collecting pyspark\n",
            "  Downloading pyspark-3.5.1.tar.gz (317.0 MB)\n",
            "\u001b[2K     \u001b[90m━━━━━━━━━━━━━━━━━━━━━━━━━━━━━━━━━━━━━━━━\u001b[0m \u001b[32m317.0/317.0 MB\u001b[0m \u001b[31m3.8 MB/s\u001b[0m eta \u001b[36m0:00:00\u001b[0m\n",
            "\u001b[?25h  Preparing metadata (setup.py) ... \u001b[?25l\u001b[?25hdone\n",
            "Requirement already satisfied: py4j==0.10.9.7 in /usr/local/lib/python3.10/dist-packages (from pyspark) (0.10.9.7)\n",
            "Building wheels for collected packages: pyspark\n",
            "  Building wheel for pyspark (setup.py) ... \u001b[?25l\u001b[?25hdone\n",
            "  Created wheel for pyspark: filename=pyspark-3.5.1-py2.py3-none-any.whl size=317488491 sha256=1a58dcadfd4c179626b95af06ccd8c56c3c2d3066ad2a603496aff1139d9ae28\n",
            "  Stored in directory: /root/.cache/pip/wheels/80/1d/60/2c256ed38dddce2fdd93be545214a63e02fbd8d74fb0b7f3a6\n",
            "Successfully built pyspark\n",
            "Installing collected packages: pyspark\n",
            "Successfully installed pyspark-3.5.1\n"
          ]
        }
      ]
    },
    {
      "cell_type": "code",
      "execution_count": 2,
      "metadata": {
        "id": "1hk9aHrLu1Ca"
      },
      "outputs": [],
      "source": [
        "# Data Importation\n",
        "from pyspark.sql import SparkSession"
      ]
    },
    {
      "cell_type": "markdown",
      "source": [
        "You can download all the datasets for this notebook [here](https://drive.google.com/file/d/1df4AAwSgWOrUH7zXSmO2RdDldJgW3uxf/view?usp=sharing)."
      ],
      "metadata": {
        "id": "JTkzZjeHYie8"
      }
    },
    {
      "cell_type": "markdown",
      "source": [
        "# 1. Creating DataFrames\n"
      ],
      "metadata": {
        "id": "Yhm7TT6UvhfB"
      }
    },
    {
      "cell_type": "markdown",
      "source": [
        "We create DataFrames to represent structured data in a tabular format, allowing us to perform data analysis efficiently. For example, we can use DataFrames to analyze sales data, track customer information, or process log files.\n",
        "\n"
      ],
      "metadata": {
        "id": "Jf0pJ0oOvvpi"
      }
    },
    {
      "cell_type": "code",
      "source": [
        "# Create a Spark session with an application name\n",
        "spark = SparkSession.builder.appName('DataFrameExample').getOrCreate()\n",
        "\n",
        "# Load data from the CSV file into a DataFrame: https://afterwork.ai/ds/e/information_technology_pafch.csv\n",
        "df = spark.read.csv('information_technology_pafch.csv', header=True, inferSchema=True)\n",
        "\n",
        "# Register the DataFrame as a temporary SQL view\n",
        "df.createOrReplaceTempView('servers')\n",
        "\n",
        "# Display the data\n",
        "df.show(5)\n",
        "\n",
        "# Stop the Spark session"
      ],
      "metadata": {
        "id": "V3kY3kOuvQyY",
        "colab": {
          "base_uri": "https://localhost:8080/"
        },
        "outputId": "4ba4c811-d8e0-4caa-fc1a-9bfd192abc71"
      },
      "execution_count": 9,
      "outputs": [
        {
          "output_type": "stream",
          "name": "stdout",
          "text": [
            "+-----------+------------+--------------------+-----------+------------+---------+------------------------+-------------+-----------+--------+\n",
            "|Server Name|  IP Address|    Operating System|Memory (GB)|Storage (TB)|CPU Cores|Network Bandwidth (Gbps)|     Location|Environment|  Status|\n",
            "+-----------+------------+--------------------+-----------+------------+---------+------------------------+-------------+-----------+--------+\n",
            "|    Server1|192.168.1.10| Windows Server 2016|         32|           4|        8|                     1.0|     New York| Production|  Active|\n",
            "|    Server2|192.168.1.11|        Ubuntu 20.04|         16|           2|        4|                     0.5|San Francisco|Development|  Active|\n",
            "|    Server3|192.168.1.12|            CentOS 7|         64|           8|       16|                     2.0|      Chicago| Production|Inactive|\n",
            "|    Server4|192.168.1.13|Red Hat Enterpris...|        128|          16|       32|                     4.0|       Dallas|    Staging|  Active|\n",
            "|    Server5|192.168.1.14| Windows Server 2019|         64|           8|       16|                     2.0|        Miami| Production|  Active|\n",
            "+-----------+------------+--------------------+-----------+------------+---------+------------------------+-------------+-----------+--------+\n",
            "only showing top 5 rows\n",
            "\n"
          ]
        }
      ]
    },
    {
      "cell_type": "markdown",
      "source": [
        "## Challenge"
      ],
      "metadata": {
        "id": "NFG1NxKrv35H"
      }
    },
    {
      "cell_type": "markdown",
      "source": [
        "Create a DataFrame using the dataset from the following URL: https://afterwork.ai/ds/ch/operations_y14ap.csv.  "
      ],
      "metadata": {
        "id": "Wrq_yAYlv8dC"
      }
    },
    {
      "cell_type": "code",
      "source": [
        "# Create a Spark session with an application name\n",
        "spark = SparkSession.builder.appName('DataFrameExample').getOrCreate()\n",
        "\n",
        "# Load data from the CSV file into a DataFrame\n",
        "df = spark.read.csv('operations_y14ap.csv', header=True, inferSchema=True)\n",
        "\n",
        "# Register the DataFrame as a temporary SQL view\n",
        "df.createOrReplaceTempView('servers')\n",
        "\n",
        "# Display the data\n",
        "df.show(5)\n",
        "\n",
        "# Stop the Spark session\n",
        "spark.stop()"
      ],
      "metadata": {
        "id": "RrGo4hD5wAnQ",
        "colab": {
          "base_uri": "https://localhost:8080/"
        },
        "outputId": "353e5edd-06d0-4158-8d36-88ef050e7b29"
      },
      "execution_count": 7,
      "outputs": [
        {
          "output_type": "stream",
          "name": "stdout",
          "text": [
            "+-----------+------------+--------------------+-----------+------------+---------+------------------------+-----------+-----------+--------+\n",
            "|Server Name|  IP Address|    Operating System|Memory (GB)|Storage (TB)|CPU Cores|Network Bandwidth (Gbps)|   Location|Environment|  Status|\n",
            "+-----------+------------+--------------------+-----------+------------+---------+------------------------+-----------+-----------+--------+\n",
            "|    Server1|192.168.1.10| Windows Server 2016|         32|           4|        8|                     1.0|   New York| Production|  Active|\n",
            "|    Server2|192.168.1.11|        Ubuntu 20.04|         16|           2|        4|                     0.5|Los Angeles|Development|  Active|\n",
            "|    Server3|192.168.1.12|            CentOS 7|         64|           8|       16|                     2.0|    Chicago| Production|Inactive|\n",
            "|    Server4|192.168.1.13|Red Hat Enterpris...|        128|          16|       32|                     4.0|      Miami|    Testing|  Active|\n",
            "|    Server5|192.168.1.14| Windows Server 2019|         64|           8|       16|                     2.0|     Dallas| Production|  Active|\n",
            "+-----------+------------+--------------------+-----------+------------+---------+------------------------+-----------+-----------+--------+\n",
            "only showing top 5 rows\n",
            "\n"
          ]
        }
      ]
    },
    {
      "cell_type": "markdown",
      "source": [
        "# 2. Data Type Conversion"
      ],
      "metadata": {
        "id": "nT5V7zqCQ5-r"
      }
    },
    {
      "cell_type": "markdown",
      "source": [
        "We perform data type conversion to convert the data types of columns in a DataFrame. For example, we may need to convert a string column to a numeric type for mathematical operations. A real-life use case for data type conversion is when working with financial data where we need to convert currency values from strings to numeric types for calculations. To apply data type conversion in SQLContext, we use functions like `cast()` to explicitly convert the data types of columns in a DataFrame.\n",
        "\n"
      ],
      "metadata": {
        "id": "0n2sMG43RMn4"
      }
    },
    {
      "cell_type": "code",
      "source": [
        "# Create a Spark session with an application name\n",
        "spark = SparkSession.builder.appName('Data_Type_Conversion').getOrCreate()\n",
        "\n",
        "# Load data from the CSV file into a DataFrame: https://afterwork.ai/ds/e/servers_ame42.csv\n",
        "df = spark.read.csv('servers_ame42.csv', header=True, inferSchema=True)\n",
        "\n",
        "# Display the data\n",
        "df.show(5)"
      ],
      "metadata": {
        "id": "2VbwvH3gRO9h",
        "colab": {
          "base_uri": "https://localhost:8080/"
        },
        "outputId": "e2c6cd28-2b1e-46bd-cd26-36875682310f"
      },
      "execution_count": 10,
      "outputs": [
        {
          "output_type": "stream",
          "name": "stdout",
          "text": [
            "+-----------+------------+--------------------+-----------+------------+---------+------------------------+-----------+-----------+--------+\n",
            "|Server Name|  IP Address|    Operating System|Memory (GB)|Storage (TB)|CPU Cores|Network Bandwidth (Gbps)|   Location|Environment|  Status|\n",
            "+-----------+------------+--------------------+-----------+------------+---------+------------------------+-----------+-----------+--------+\n",
            "|    Server1|192.168.1.10| Windows Server 2016|         32|           4|        8|                     1.0|   New York| Production|  Active|\n",
            "|    Server2|192.168.1.11|        Ubuntu 20.04|         16|           2|        4|                     0.5|Los Angeles|Development|Inactive|\n",
            "|    Server3|192.168.1.12|            CentOS 7|         64|           8|       16|                     2.0|    Chicago| Production|  Active|\n",
            "|    Server4|192.168.1.13|Red Hat Enterpris...|        128|          16|       32|                     4.0|      Miami|    Staging|  Active|\n",
            "|    Server5|192.168.1.14| Windows Server 2019|         64|           8|       16|                     2.0|     Dallas| Production|Inactive|\n",
            "+-----------+------------+--------------------+-----------+------------+---------+------------------------+-----------+-----------+--------+\n",
            "only showing top 5 rows\n",
            "\n"
          ]
        }
      ]
    },
    {
      "cell_type": "code",
      "source": [
        "# Register the DataFrame as a temporary SQL view\n",
        "df.createOrReplaceTempView('servers_table')\n",
        "\n",
        "# Perform the data type conversion in SQLContext\n",
        "converted_df = spark.sql(\"SELECT *, CAST(`Memory (GB)` AS INT) AS Memory_Int, CAST(`Storage (TB)` AS FLOAT) AS Storage_Float FROM servers_table\")\n",
        "\n",
        "# Display the filtered data\n",
        "converted_df.show()\n",
        "\n",
        "# Stop the Spark session\n",
        "spark.stop()"
      ],
      "metadata": {
        "id": "MtENxgwjVO3v",
        "collapsed": true,
        "colab": {
          "base_uri": "https://localhost:8080/"
        },
        "outputId": "887fab1d-e248-4ee5-b43a-0184e464dfe4"
      },
      "execution_count": 11,
      "outputs": [
        {
          "output_type": "stream",
          "name": "stdout",
          "text": [
            "+-----------+------------+--------------------+-----------+------------+---------+------------------------+-------------+-----------+--------+----------+-------------+\n",
            "|Server Name|  IP Address|    Operating System|Memory (GB)|Storage (TB)|CPU Cores|Network Bandwidth (Gbps)|     Location|Environment|  Status|Memory_Int|Storage_Float|\n",
            "+-----------+------------+--------------------+-----------+------------+---------+------------------------+-------------+-----------+--------+----------+-------------+\n",
            "|    Server1|192.168.1.10| Windows Server 2016|         32|           4|        8|                     1.0|     New York| Production|  Active|        32|          4.0|\n",
            "|    Server2|192.168.1.11|        Ubuntu 20.04|         16|           2|        4|                     0.5|  Los Angeles|Development|Inactive|        16|          2.0|\n",
            "|    Server3|192.168.1.12|            CentOS 7|         64|           8|       16|                     2.0|      Chicago| Production|  Active|        64|          8.0|\n",
            "|    Server4|192.168.1.13|Red Hat Enterpris...|        128|          16|       32|                     4.0|        Miami|    Staging|  Active|       128|         16.0|\n",
            "|    Server5|192.168.1.14| Windows Server 2019|         64|           8|       16|                     2.0|       Dallas| Production|Inactive|        64|          8.0|\n",
            "|    Server6|192.168.1.15|        Ubuntu 18.04|         32|           4|        8|                     1.0|San Francisco|Development|  Active|        32|          4.0|\n",
            "|    Server7|192.168.1.16|           Debian 10|         16|           2|        4|                     0.5|      Seattle| Production|  Active|        16|          2.0|\n",
            "|    Server8|192.168.1.17|Windows Server 20...|         64|           8|       16|                     2.0|       Boston|Development|Inactive|        64|          8.0|\n",
            "|    Server9|192.168.1.18|            CentOS 8|        128|          16|       32|                     4.0|       Austin|    Staging|  Active|       128|         16.0|\n",
            "|   Server10|192.168.1.19|Red Hat Enterpris...|         64|           8|       16|                     2.0|       Denver| Production|  Active|        64|          8.0|\n",
            "|   Server11|192.168.1.20| Windows Server 2016|         32|           4|        8|                     1.0|     New York|Development|Inactive|        32|          4.0|\n",
            "|   Server12|192.168.1.21|        Ubuntu 20.04|         16|           2|        4|                     0.5|  Los Angeles| Production|  Active|        16|          2.0|\n",
            "|   Server13|192.168.1.22|            CentOS 7|         64|           8|       16|                     2.0|      Chicago|    Staging|  Active|        64|          8.0|\n",
            "|   Server14|192.168.1.23|Red Hat Enterpris...|        128|          16|       32|                     4.0|        Miami|Development|Inactive|       128|         16.0|\n",
            "|   Server15|192.168.1.24| Windows Server 2019|         64|           8|       16|                     2.0|       Dallas| Production|  Active|        64|          8.0|\n",
            "|   Server16|192.168.1.25|        Ubuntu 18.04|         32|           4|        8|                     1.0|San Francisco|    Staging|  Active|        32|          4.0|\n",
            "|   Server17|192.168.1.26|           Debian 10|         16|           2|        4|                     0.5|      Seattle|Development|Inactive|        16|          2.0|\n",
            "|   Server18|192.168.1.27|Windows Server 20...|         64|           8|       16|                     2.0|       Boston| Production|  Active|        64|          8.0|\n",
            "|   Server19|192.168.1.28|            CentOS 8|        128|          16|       32|                     4.0|       Austin|Development|  Active|       128|         16.0|\n",
            "|   Server20|192.168.1.29|Red Hat Enterpris...|         64|           8|       16|                     2.0|       Denver|    Staging|Inactive|        64|          8.0|\n",
            "+-----------+------------+--------------------+-----------+------------+---------+------------------------+-------------+-----------+--------+----------+-------------+\n",
            "only showing top 20 rows\n",
            "\n"
          ]
        }
      ]
    },
    {
      "cell_type": "markdown",
      "source": [
        "## Challenge"
      ],
      "metadata": {
        "id": "881qMba0ROvo"
      }
    },
    {
      "cell_type": "markdown",
      "source": [
        "Given the dataset from the URL: https://afterwork.ai/ds/ch/servers_dig70.csv, write code to convert the 'Memory (GB)' column from string to integer data type in a DataFrame.\n"
      ],
      "metadata": {
        "id": "YV2-D4_ZS6gK"
      }
    },
    {
      "cell_type": "code",
      "source": [
        "# Create a Spark session with an application name\n",
        "spark = SparkSession.builder.appName('Data_Type_Conversion').getOrCreate()\n",
        "\n",
        "# Load data from the CSV file into a DataFrame: https://afterwork.ai/ds/ch/servers_dig70.csv\n",
        "df = spark.read.csv('servers_dig70.csv', header=True, inferSchema=True)\n",
        "\n",
        "# Display the data\n",
        "df.show(5)"
      ],
      "metadata": {
        "id": "EJKXrSbvSmyR",
        "collapsed": true,
        "colab": {
          "base_uri": "https://localhost:8080/"
        },
        "outputId": "d3d654ef-ce57-4593-bdc9-57db4b13dfcc"
      },
      "execution_count": 12,
      "outputs": [
        {
          "output_type": "stream",
          "name": "stdout",
          "text": [
            "+-----------+------------+--------------------+-----------+------------+---------+------------------------+-------------+-----------+--------+\n",
            "|Server Name|  IP Address|    Operating System|Memory (GB)|Storage (TB)|CPU Cores|Network Bandwidth (Gbps)|     Location|Environment|  Status|\n",
            "+-----------+------------+--------------------+-----------+------------+---------+------------------------+-------------+-----------+--------+\n",
            "|    Server1|192.168.1.10| Windows Server 2016|         32|           4|        8|                     1.0|     New York| Production|  Active|\n",
            "|    Server2|192.168.1.11|        Ubuntu 20.04|         16|           2|        4|                     0.5|San Francisco|Development|  Active|\n",
            "|    Server3|192.168.1.12|            CentOS 7|         64|           8|       16|                     2.0|      Chicago| Production|Inactive|\n",
            "|    Server4|192.168.1.13|Red Hat Enterpris...|        128|          16|       32|                     4.0|        Miami|    Staging|  Active|\n",
            "|    Server5|192.168.1.14| Windows Server 2019|         64|           8|       16|                     2.0|  Los Angeles|Development|  Active|\n",
            "+-----------+------------+--------------------+-----------+------------+---------+------------------------+-------------+-----------+--------+\n",
            "only showing top 5 rows\n",
            "\n"
          ]
        }
      ]
    },
    {
      "cell_type": "code",
      "source": [
        "# Register the DataFrame as a temporary SQL view\n",
        "df.createOrReplaceTempView('servers_table')\n",
        "\n",
        "# Perform the data type conversion in SQLContext\n",
        "convert_df = spark.sql(\"SELECT *, CAST('MEMORY (GB)' AS INT) AS Memory_Int, CAST('Storage (TB)' AS FLOAT) AS Storage_flt FROM servers_table\")\n",
        "\n",
        "# Display the filtered data\n",
        "convert_df.show()\n",
        "\n",
        "# Stop the Spark session\n",
        "# Write your code here\n"
      ],
      "metadata": {
        "id": "V-td33JFVQbx",
        "colab": {
          "base_uri": "https://localhost:8080/"
        },
        "outputId": "9c593b88-bab7-4e8f-cd5f-7b317d0bb7d9"
      },
      "execution_count": 14,
      "outputs": [
        {
          "output_type": "stream",
          "name": "stdout",
          "text": [
            "+-----------+------------+--------------------+-----------+------------+---------+------------------------+-------------+-----------+--------+----------+-----------+\n",
            "|Server Name|  IP Address|    Operating System|Memory (GB)|Storage (TB)|CPU Cores|Network Bandwidth (Gbps)|     Location|Environment|  Status|Memory_Int|Storage_flt|\n",
            "+-----------+------------+--------------------+-----------+------------+---------+------------------------+-------------+-----------+--------+----------+-----------+\n",
            "|    Server1|192.168.1.10| Windows Server 2016|         32|           4|        8|                     1.0|     New York| Production|  Active|      NULL|       NULL|\n",
            "|    Server2|192.168.1.11|        Ubuntu 20.04|         16|           2|        4|                     0.5|San Francisco|Development|  Active|      NULL|       NULL|\n",
            "|    Server3|192.168.1.12|            CentOS 7|         64|           8|       16|                     2.0|      Chicago| Production|Inactive|      NULL|       NULL|\n",
            "|    Server4|192.168.1.13|Red Hat Enterpris...|        128|          16|       32|                     4.0|        Miami|    Staging|  Active|      NULL|       NULL|\n",
            "|    Server5|192.168.1.14| Windows Server 2019|         64|           8|       16|                     2.0|  Los Angeles|Development|  Active|      NULL|       NULL|\n",
            "|    Server6|192.168.1.15|        Ubuntu 18.04|         32|           4|        8|                     1.0|       Dallas| Production|Inactive|      NULL|       NULL|\n",
            "|    Server7|192.168.1.16|           Debian 10|         16|           2|        4|                     0.5|      Seattle|Development|  Active|      NULL|       NULL|\n",
            "|    Server8|192.168.1.17|Windows Server 20...|         64|           8|       16|                     2.0|       Boston| Production|  Active|      NULL|       NULL|\n",
            "|    Server9|192.168.1.18|            CentOS 8|        128|          16|       32|                     4.0|      Atlanta|    Staging|Inactive|      NULL|       NULL|\n",
            "|   Server10|192.168.1.19|        Ubuntu 16.04|         32|           4|        8|                     1.0|      Houston|Development|  Active|      NULL|       NULL|\n",
            "|   Server11|192.168.1.20|Red Hat Enterpris...|         64|           8|       16|                     2.0|      Phoenix| Production|  Active|      NULL|       NULL|\n",
            "|   Server12|192.168.1.21| Windows Server 2012|         32|           4|        8|                     1.0|       Denver|Development|Inactive|      NULL|       NULL|\n",
            "|   Server13|192.168.1.22|        Ubuntu 20.04|         16|           2|        4|                     0.5|     Portland| Production|  Active|      NULL|       NULL|\n",
            "|   Server14|192.168.1.23|            CentOS 7|         64|           8|       16|                     2.0|      Detroit|    Staging|Inactive|      NULL|       NULL|\n",
            "|   Server15|192.168.1.24|Red Hat Enterpris...|        128|          16|       32|                     4.0|  Minneapolis|Development|  Active|      NULL|       NULL|\n",
            "|   Server16|192.168.1.25| Windows Server 2019|         64|           8|       16|                     2.0| Philadelphia| Production|  Active|      NULL|       NULL|\n",
            "|   Server17|192.168.1.26|        Ubuntu 18.04|         32|           4|        8|                     1.0|    Charlotte|    Staging|Inactive|      NULL|       NULL|\n",
            "|   Server18|192.168.1.27|           Debian 10|         16|           2|        4|                     0.5| Indianapolis|Development|  Active|      NULL|       NULL|\n",
            "|   Server19|192.168.1.28|Windows Server 20...|         64|           8|       16|                     2.0|      Memphis| Production|  Active|      NULL|       NULL|\n",
            "|   Server20|192.168.1.29|            CentOS 8|        128|          16|       32|                     4.0|    Nashville|    Staging|Inactive|      NULL|       NULL|\n",
            "+-----------+------------+--------------------+-----------+------------+---------+------------------------+-------------+-----------+--------+----------+-----------+\n",
            "only showing top 20 rows\n",
            "\n"
          ]
        }
      ]
    },
    {
      "cell_type": "markdown",
      "source": [
        "# 3. Handling Duplicates"
      ],
      "metadata": {
        "id": "wiid-DCETRdf"
      }
    },
    {
      "cell_type": "markdown",
      "source": [
        "We can handle duplicates by identifying and removing rows that have identical values across all columns. In real-life scenarios, duplicates can occur due to data entry errors, system issues, or merging multiple datasets. By handling duplicates, we prevent skewed results and maintain the quality of our analysis. To apply this concept, we first identify duplicate rows using the 'dropDuplicates' function.\n",
        "\n"
      ],
      "metadata": {
        "id": "cmHo4NN7TT2k"
      }
    },
    {
      "cell_type": "code",
      "source": [
        "# Create a Spark session with an application name\n",
        "spark = SparkSession.builder.appName('HandlingDuplicates').getOrCreate()\n",
        "\n",
        "# Load data from the CSV file into a DataFrame: https://afterwork.ai/ds/e/sales_wmtgv.csv\n",
        "df = spark.read.csv('sales_wmtgv.csv', header=True, inferSchema=True)\n",
        "\n",
        "# Display the data\n",
        "df.show(5)"
      ],
      "metadata": {
        "id": "VOCWBYtKTTm7",
        "colab": {
          "base_uri": "https://localhost:8080/"
        },
        "outputId": "6e8d85a3-61b4-4bef-f5f6-cd7015db0c89"
      },
      "execution_count": 15,
      "outputs": [
        {
          "output_type": "stream",
          "name": "stdout",
          "text": [
            "+-----------+------------+--------------------+-----------+------------+---------+------------------------+-----------+-----------+--------+\n",
            "|Server Name|  IP Address|    Operating System|Memory (GB)|Storage (TB)|CPU Cores|Network Bandwidth (Gbps)|   Location|Environment|  Status|\n",
            "+-----------+------------+--------------------+-----------+------------+---------+------------------------+-----------+-----------+--------+\n",
            "|    Server1|192.168.1.10| Windows Server 2016|         32|           4|        8|                     1.0|   New York| Production|  Active|\n",
            "|    Server2|192.168.1.11|        Ubuntu 20.04|         16|           2|        4|                     0.5|Los Angeles|Development|Inactive|\n",
            "|    Server3|192.168.1.12|            CentOS 7|         64|           8|       16|                     2.0|    Chicago| Production|  Active|\n",
            "|    Server4|192.168.1.13|Red Hat Enterpris...|        128|          16|       32|                     4.0|      Miami|    Staging|Inactive|\n",
            "|    Server5|192.168.1.14| Windows Server 2019|         64|           8|       16|                     2.0|     Dallas| Production|  Active|\n",
            "+-----------+------------+--------------------+-----------+------------+---------+------------------------+-----------+-----------+--------+\n",
            "only showing top 5 rows\n",
            "\n"
          ]
        }
      ]
    },
    {
      "cell_type": "code",
      "source": [
        "# Register the DataFrame as a temporary SQL view\n",
        "df.createOrReplaceTempView('sales_data')\n",
        "\n",
        "# Perform the data analysis technique to handle duplicates\n",
        "filtered_df = spark.sql('SELECT * FROM sales_data').dropDuplicates()\n",
        "\n",
        "# Display the filtered data\n",
        "filtered_df.show()\n",
        "\n",
        "# Stop the Spark session\n",
        "spark.stop()"
      ],
      "metadata": {
        "id": "i6gsLoTaVSAk",
        "colab": {
          "base_uri": "https://localhost:8080/"
        },
        "outputId": "7643565b-dc9b-400b-8d37-a158fbbef54b"
      },
      "execution_count": 16,
      "outputs": [
        {
          "output_type": "stream",
          "name": "stdout",
          "text": [
            "+-----------+------------+--------------------+-----------+------------+---------+------------------------+-------------+-----------+--------+\n",
            "|Server Name|  IP Address|    Operating System|Memory (GB)|Storage (TB)|CPU Cores|Network Bandwidth (Gbps)|     Location|Environment|  Status|\n",
            "+-----------+------------+--------------------+-----------+------------+---------+------------------------+-------------+-----------+--------+\n",
            "|    Server4|192.168.1.13|Red Hat Enterpris...|        128|          16|       32|                     4.0|        Miami|    Staging|Inactive|\n",
            "|   Server72|192.168.1.81|Red Hat Enterpris...|         16|           2|        4|                     0.5|   Long Beach|    Staging|Inactive|\n",
            "|   Server46|192.168.1.55|            Debian 4|         16|           2|        4|                     0.5|      Phoenix|Development|Inactive|\n",
            "|   Server26|192.168.1.35|Red Hat Enterpris...|         32|           4|        8|                     1.0|Oklahoma City|Development|Inactive|\n",
            "|   Server54|192.168.1.63|         Ubuntu 2.10|        128|          16|       32|                     4.0| Philadelphia|    Staging|Inactive|\n",
            "|   Server56|192.168.1.65|Red Hat Enterpris...|         16|           2|        4|                     0.5|     Portland|Development|Inactive|\n",
            "|   Server66|192.168.1.75|            Debian 9|         32|           4|        8|                     1.0|    Milwaukee|Development|Inactive|\n",
            "|   Server34|192.168.1.43|            CentOS 3|        128|          16|       32|                     4.0|    Anchorage|    Staging|Inactive|\n",
            "|   Server58|192.168.1.67|            Debian 2|         64|           8|       16|                     2.0|    Charlotte|Development|Inactive|\n",
            "|   Server65|192.168.1.74|         Ubuntu 1.04|        128|          16|       32|                     4.0|       Denver| Production|  Active|\n",
            "|   Server52|192.168.1.61|            CentOS 1|         16|           2|        4|                     0.5|      Detroit|Development|Inactive|\n",
            "|   Server14|192.168.1.23|            CentOS 6|        128|          16|       32|                     4.0| Philadelphia|    Staging|Inactive|\n",
            "|   Server69|192.168.1.78|         Ubuntu 1.00|         32|           4|        8|                     1.0|  Albuquerque| Production|  Active|\n",
            "|   Server73|192.168.1.82|         Ubuntu 0.10|         32|           4|        8|                     1.0|  Kansas City| Production|  Active|\n",
            "|   Server44|192.168.1.53|Red Hat Enterpris...|        128|          16|       32|                     4.0|      Seattle|    Staging|Inactive|\n",
            "|   Server74|192.168.1.83|            Debian 7|         64|           8|       16|                     2.0|        Omaha|Development|Inactive|\n",
            "|   Server62|192.168.1.71|            Debian 1|         16|           2|        4|                     0.5|  New Orleans|Development|Inactive|\n",
            "|   Server36|192.168.1.45|         Ubuntu 4.10|         16|           2|        4|                     0.5|        Boise|Development|Inactive|\n",
            "|   Server75|192.168.1.84| Windows Server 1985|        128|          16|       32|                     4.0|    Anchorage| Production|  Active|\n",
            "|    Server5|192.168.1.14| Windows Server 2019|         64|           8|       16|                     2.0|       Dallas| Production|  Active|\n",
            "+-----------+------------+--------------------+-----------+------------+---------+------------------------+-------------+-----------+--------+\n",
            "only showing top 20 rows\n",
            "\n"
          ]
        }
      ]
    },
    {
      "cell_type": "markdown",
      "source": [
        "## Challenge"
      ],
      "metadata": {
        "id": "H1OnioiRTjns"
      }
    },
    {
      "cell_type": "markdown",
      "source": [
        "Given the dataset from the URL: https://afterwork.ai/ds/ch/sales_7fdtc.csv, write code to handle duplicates by removing rows that have identical values across all columns. Use the 'dropDuplicates' function to achieve this.  \n"
      ],
      "metadata": {
        "id": "w18Mn6K_TmgG"
      }
    },
    {
      "cell_type": "code",
      "source": [
        "# Import the SparkSession class from the pyspark.sql module\n",
        "from pyspark.sql import SparkSession\n",
        "\n",
        "# Create a Spark session with an application name\n",
        "spark = SparkSession.builder.appName('HandlingDuplicates').getOrCreate()\n",
        "\n",
        "# Load data from the CSV file into a DataFrame: https://afterwork.ai/ds/ch/sales_7fdtc.csv\n",
        "df = spark.read.csv('sales_7fdtc.csv', header=True, inferSchema=True)\n",
        "\n",
        "# Display the data\n",
        "df.show(5)"
      ],
      "metadata": {
        "id": "x2CJ5P8FTsTN"
      },
      "execution_count": null,
      "outputs": []
    },
    {
      "cell_type": "code",
      "source": [
        "# Register the DataFrame as a temporary SQL view\n",
        "# Write your code here\n",
        "\n",
        "# Perform the data analysis technique to handle duplicates\n",
        "# Write your code here\n",
        "\n",
        "# Display the filtered data\n",
        "# Write your code here\n",
        "\n",
        "# Stop the Spark session\n",
        "# Write your code here"
      ],
      "metadata": {
        "id": "d8uWpdmGVTmm"
      },
      "execution_count": null,
      "outputs": []
    },
    {
      "cell_type": "markdown",
      "source": [
        "# 4. Handling Missing Values"
      ],
      "metadata": {
        "id": "mKwHDlwuJ3Zk"
      }
    },
    {
      "cell_type": "markdown",
      "source": [
        "We handle missing values by identifying and dealing with any null or NaN values present in the dataset. Missing values can occur due to various reasons such as data entry errors, sensor malfunctions, or incomplete data collection. It is crucial to address missing values as they can impact the accuracy and reliability of our analysis. For example, in a dataset of customer feedback, missing values in the 'rating' column can skew our analysis of customer satisfaction.\n",
        "\n"
      ],
      "metadata": {
        "id": "a5WzYTB3J6RW"
      }
    },
    {
      "cell_type": "code",
      "source": [
        "# Create a Spark session with an application name\n",
        "spark = SparkSession.builder.appName('HandleMissingValues').getOrCreate()\n",
        "\n",
        "# Load data from the CSV file into a DataFrame: https://afterwork.ai/ds/e/operations_fx6ye.csv\n",
        "df = spark.read.csv('operations_fx6ye.csv', header=True, inferSchema=True)\n",
        "\n",
        "# Display the data\n",
        "df.show(5)"
      ],
      "metadata": {
        "id": "bDgyUtkdJ8Tw"
      },
      "execution_count": null,
      "outputs": []
    },
    {
      "cell_type": "code",
      "source": [
        "# Register the DataFrame as a temporary SQL view\n",
        "df.createOrReplaceTempView('servers')\n",
        "\n",
        "# Perform the data analysis technique - Handling Missing Values in SQLContext DataFrames\n",
        "df_cleaned = spark.sql('SELECT * FROM servers WHERE `CPU Cores` IS NULL AND `Storage (TB)` IS NOT NULL')\n",
        "\n",
        "# Display the filtered data\n",
        "df_cleaned.show()\n",
        "\n",
        "# Stop the Spark session\n",
        "spark.stop()"
      ],
      "metadata": {
        "id": "XwzvAsoFVG2v"
      },
      "execution_count": null,
      "outputs": []
    },
    {
      "cell_type": "markdown",
      "source": [
        "# 5. Filtering Data"
      ],
      "metadata": {
        "id": "yI2HbiZOwkhe"
      }
    },
    {
      "cell_type": "markdown",
      "source": [
        "We filter data to extract only the rows that meet specific conditions. For example, we may want to filter a DataFrame to only include records where the sales amount is greater than $1000. A real-life use case for filtering data is in e-commerce analytics, where we can filter customer data to identify high-spending customers based on their purchase history."
      ],
      "metadata": {
        "id": "Hx3m3pqQHVbS"
      }
    },
    {
      "cell_type": "code",
      "source": [
        "# Create a Spark session with an application name\n",
        "spark = SparkSession.builder.appName('SalesAnalysis').getOrCreate()\n",
        "\n",
        "# Load data from the CSV file into a DataFrame: https://afterwork.ai/ds/e/sales_iaz2h.csv\n",
        "df = spark.read.csv('sales_iaz2h.csv', header=True, inferSchema=True)\n",
        "\n",
        "# Display the data\n",
        "df.show(5)"
      ],
      "metadata": {
        "id": "BW_a5BWMHYdH"
      },
      "execution_count": null,
      "outputs": []
    },
    {
      "cell_type": "code",
      "source": [
        "# Register the DataFrame as a temporary SQL view\n",
        "df.createOrReplaceTempView('sales')\n",
        "\n",
        "# Perform the data analysis technique - Filtering data to extract only rows where Memory is greater than 64 GB\n",
        "filtered_data = spark.sql('SELECT * FROM sales WHERE `Memory (GB)` > 64')\n",
        "\n",
        "# Display the filtered data\n",
        "filtered_data.show()\n",
        "\n",
        "# Stop the Spark session\n",
        "spark.stop()"
      ],
      "metadata": {
        "id": "gednSaTYU_rq"
      },
      "execution_count": null,
      "outputs": []
    },
    {
      "cell_type": "markdown",
      "source": [
        "### Challenge"
      ],
      "metadata": {
        "id": "KAjuKCnpHktW"
      }
    },
    {
      "cell_type": "markdown",
      "source": [
        "Given the dataset from the URL: https://afterwork.ai/ds/ch/sales_9uorv.csv, write code to filter the DataFrame to only include records where the total price is greater than $1000.\n"
      ],
      "metadata": {
        "id": "i4LJXWiPHqod"
      }
    },
    {
      "cell_type": "code",
      "source": [
        "# Create a Spark session with an application name\n",
        "spark = SparkSession.builder.appName('SalesAnalysis').getOrCreate()\n",
        "\n",
        "# Load data from the CSV file into a DataFrame: https://afterwork.ai/ds/ch/sales_9uorv.csv\n",
        "df = spark.read.csv('sales_9uorv.csv', header=True, inferSchema=True)\n",
        "\n",
        "# Display the data\n",
        "df.show(5)"
      ],
      "metadata": {
        "id": "k7v6SfsrHrqW"
      },
      "execution_count": null,
      "outputs": []
    },
    {
      "cell_type": "code",
      "source": [
        "# Register the DataFrame as a temporary SQL view\n",
        "# Write your code here\n",
        "\n",
        "# Perform the data analysis technique - Filtering data to extract only rows where total price is greater than $1000\n",
        "# Write your code here\n",
        "\n",
        "# Display the filtered data\n",
        "# Write your code here\n",
        "\n",
        "# Stop the Spark session\n",
        "spark.stop()"
      ],
      "metadata": {
        "id": "BgIJf9bXVBrw"
      },
      "execution_count": null,
      "outputs": []
    },
    {
      "cell_type": "markdown",
      "source": [
        "# 6. Sorting Data"
      ],
      "metadata": {
        "id": "t28O-l2wIM8v"
      }
    },
    {
      "cell_type": "markdown",
      "source": [
        "We sort data to arrange it in a specific order based on one or more columns. This helps us organize the data in a meaningful way for analysis and presentation. For example, in a sales dataset, we can sort the data based on the sales amount in descending order to identify the top-selling products.\n",
        "\n"
      ],
      "metadata": {
        "id": "fotn3tNeIOFO"
      }
    },
    {
      "cell_type": "code",
      "source": [
        "# Create a Spark session with an application name\n",
        "spark = SparkSession.builder.appName('SortingDataExample').getOrCreate()\n",
        "\n",
        "# Load data from the CSV file into a DataFrame: https://afterwork.ai/ds/e/operations_mtfg0.csv\n",
        "df = spark.read.csv('operations_mtfg0.csv', header=True, inferSchema=True)\n",
        "\n",
        "# Display the data\n",
        "df.show(5)"
      ],
      "metadata": {
        "id": "iCMstVuGIRNF"
      },
      "execution_count": null,
      "outputs": []
    },
    {
      "cell_type": "code",
      "source": [
        "# Register the DataFrame as a temporary SQL view\n",
        "df.createOrReplaceTempView('operations_data')\n",
        "\n",
        "# Perform the data analysis technique - Sorting data by 'Memory (GB)' column in descending order\n",
        "sorted_data = spark.sql('SELECT * FROM operations_data ORDER BY `Memory (GB)` DESC')\n",
        "\n",
        "# Display the filtered data\n",
        "sorted_data.show()\n",
        "\n",
        "# Stop the Spark session\n",
        "spark.stop()"
      ],
      "metadata": {
        "id": "QpsirRYMVDa-"
      },
      "execution_count": null,
      "outputs": []
    },
    {
      "cell_type": "markdown",
      "source": [
        "# 7. Aggregating Data"
      ],
      "metadata": {
        "id": "4azeF_O_wH6O"
      }
    },
    {
      "cell_type": "markdown",
      "source": [
        "Aggregating data involves combining and summarizing multiple rows of data into a single result. For example, we can aggregate sales data to calculate the total revenue generated by each product category. A real-life use case of aggregating data is in financial analysis, where we can aggregate transaction data to calculate total expenses or revenue for a specific time period. To apply aggregation, we use functions like SUM, AVG, COUNT, and MAX along with the GROUP BY clause to group the data based on a specific column.\n",
        "\n"
      ],
      "metadata": {
        "id": "LjWK9akXwOe-"
      }
    },
    {
      "cell_type": "code",
      "source": [
        " # Create a Spark session with an application name\n",
        "spark = SparkSession.builder.appName('SalesAnalysis').getOrCreate()\n",
        "\n",
        "# Load data from the CSV file into a DataFrame: https://afterwork.ai/ds/e/sales_ew6oq.csv\n",
        "df = spark.read.csv('sales_ew6oq.csv', header=True, inferSchema=True)\n",
        "\n",
        "# Display the data\n",
        "df.show(5)"
      ],
      "metadata": {
        "id": "sWSqiU6DwQsK"
      },
      "execution_count": null,
      "outputs": []
    },
    {
      "cell_type": "code",
      "source": [
        "# Register the DataFrame as a temporary SQL view\n",
        "df.createOrReplaceTempView('sales')\n",
        "\n",
        "# Perform the data analysis technique - Aggregating data to calculate total revenue generated by each product category\n",
        "result = spark.sql('SELECT Location, SUM(`Storage (TB)`) AS Total_Storage FROM sales GROUP BY Location')\n",
        "\n",
        "# Display the filtered data\n",
        "result.show()\n",
        "\n",
        "# Stop the Spark session\n",
        "spark.stop()"
      ],
      "metadata": {
        "id": "xKcAoyPAU057"
      },
      "execution_count": null,
      "outputs": []
    },
    {
      "cell_type": "markdown",
      "source": [
        "### Challenge"
      ],
      "metadata": {
        "id": "Mz3t2x44wTBL"
      }
    },
    {
      "cell_type": "markdown",
      "source": [
        "Given the dataset from the URL: https://afterwork.ai/ds/ch/sales_6on5e.csv, write a SQL query to find the average price generated for each product category. Use aggregation functions like AVG and GROUP BY clause to achieve this."
      ],
      "metadata": {
        "id": "AoifxyarwUZe"
      }
    },
    {
      "cell_type": "code",
      "source": [
        " # Create a Spark session with an application name\n",
        "spark = SparkSession.builder.appName('SalesAnalysis').getOrCreate()\n",
        "\n",
        "# Load data from the CSV file into a DataFrame: https://afterwork.ai/ds/ch/sales_6on5e.csv\n",
        "df = spark.read.csv('sales_6on5e.csv', header=True, inferSchema=True)\n",
        "\n",
        "# Display the data\n",
        "df.show(5)"
      ],
      "metadata": {
        "id": "QjmNi7bwwW9p"
      },
      "execution_count": null,
      "outputs": []
    },
    {
      "cell_type": "code",
      "source": [
        "# Register the DataFrame as a temporary SQL view\n",
        "# Write your code here\n",
        "\n",
        "# Perform the data analysis technique - Aggregating data to calculate total price generated by each product category\n",
        "# Write your code here\n",
        "\n",
        "# Display the filtered data\n",
        "# Write your code here\n",
        "\n",
        "# Stop the Spark session\n",
        "spark.stop()"
      ],
      "metadata": {
        "id": "eMwzkD0mU9T5"
      },
      "execution_count": null,
      "outputs": []
    },
    {
      "cell_type": "markdown",
      "source": [
        "# 8. Grouping Data by Multiple Columns"
      ],
      "metadata": {
        "id": "08VUTD8TM8dG"
      }
    },
    {
      "cell_type": "markdown",
      "source": [
        "We group data by multiple columns when we want to analyze data based on multiple criteria. For example, in a sales dataset, we may want to group sales data by both region and product category to understand which regions perform best for each category. This allows us to perform aggregate functions on the grouped data and generate meaningful summaries for our analysis.\n",
        "\n"
      ],
      "metadata": {
        "id": "ZD0mz5GfM-oI"
      }
    },
    {
      "cell_type": "code",
      "source": [
        "# Create a Spark session with an application name\n",
        "spark = SparkSession.builder.appName('SalesAnalysis').getOrCreate()\n",
        "\n",
        "# Load data from the CSV file into a DataFrame: https://afterwork.ai/ds/e/sales_pvaqb.csv\n",
        "df = spark.read.csv('sales_pvaqb.csv', header=True, inferSchema=True)\n",
        "\n",
        "# Display the data\n",
        "df.show(5)"
      ],
      "metadata": {
        "id": "X9Va0WMfM1Rw"
      },
      "execution_count": null,
      "outputs": []
    },
    {
      "cell_type": "code",
      "source": [
        "# Register the DataFrame as a temporary SQL view\n",
        "df.createOrReplaceTempView('sales_data')\n",
        "\n",
        "# Perform the data analysis technique by grouping data by multiple columns\n",
        "grouped_data = spark.sql('SELECT Location, Environment, COUNT(*) AS TotalServers FROM sales_data GROUP BY Location, Environment')\n",
        "\n",
        "# Display the filtered data\n",
        "grouped_data.show()\n",
        "\n",
        "# Stop the Spark session\n",
        "spark.stop()"
      ],
      "metadata": {
        "id": "ukG_9iiUVKad"
      },
      "execution_count": null,
      "outputs": []
    }
  ]
}